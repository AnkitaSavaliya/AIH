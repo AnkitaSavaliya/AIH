{
  "nbformat": 4,
  "nbformat_minor": 0,
  "metadata": {
    "colab": {
      "provenance": [],
      "include_colab_link": true
    },
    "kernelspec": {
      "name": "python3",
      "display_name": "Python 3"
    },
    "language_info": {
      "name": "python"
    }
  },
  "cells": [
    {
      "cell_type": "markdown",
      "metadata": {
        "id": "view-in-github",
        "colab_type": "text"
      },
      "source": [
        "<a href=\"https://colab.research.google.com/github/AnkitaSavaliya/AIH/blob/main/LLM_Diabetes_Prediction_new.ipynb\" target=\"_parent\"><img src=\"https://colab.research.google.com/assets/colab-badge.svg\" alt=\"Open In Colab\"/></a>"
      ]
    },
    {
      "cell_type": "code",
      "execution_count": 10,
      "metadata": {
        "id": "i0olFilJjGDU"
      },
      "outputs": [],
      "source": [
        "# Standard Libraries\n",
        "import pandas as pd\n",
        "from datetime import datetime\n",
        "import warnings\n",
        "import numpy as np\n",
        "\n",
        "# Machine Learning\n",
        "from sklearn.model_selection import train_test_split\n",
        "from sklearn.ensemble import RandomForestClassifier\n",
        "from sklearn.linear_model import LogisticRegression\n",
        "from sklearn.metrics import accuracy_score, roc_auc_score, average_precision_score\n",
        "\n",
        "# Data Resampling\n",
        "from sklearn.utils import resample\n",
        "\n",
        "# Suppress warnings to avoid clutter in the output\n",
        "warnings.filterwarnings('ignore')\n",
        "\n",
        "# OpenAI API (if required)\n",
        "import openai"
      ]
    },
    {
      "cell_type": "code",
      "source": [
        "# Mount Google Drive (only needed in Colab)\n",
        "from google.colab import drive\n",
        "drive.mount('/content/drive')"
      ],
      "metadata": {
        "colab": {
          "base_uri": "https://localhost:8080/"
        },
        "id": "RnT43BQWjS2_",
        "outputId": "cb936fd8-8a92-4b3b-dc12-3503adc4974b"
      },
      "execution_count": 11,
      "outputs": [
        {
          "output_type": "stream",
          "name": "stdout",
          "text": [
            "Mounted at /content/drive\n"
          ]
        }
      ]
    },
    {
      "cell_type": "markdown",
      "source": [
        "**Predicting Diabetes Using One-Shot, Few-Shot, Chain of Thought, and Decision Tree Approaches**"
      ],
      "metadata": {
        "id": "vbViSMu2cDmh"
      }
    },
    {
      "cell_type": "code",
      "source": [
        "openClient = openai.OpenAI(api_key=\"<Replace-with-key>\") # As this key is private, removed it while uploading assignment."
      ],
      "metadata": {
        "id": "2h5LI5O20eX9"
      },
      "execution_count": 12,
      "outputs": []
    },
    {
      "cell_type": "code",
      "source": [
        "# One shot prompt\n",
        "messages = [\n",
        "    {\"role\": \"system\", \"content\": \"You are a doctor or an expert trained to predict Diabetes based on patient data. Respond with 'Yes' or 'No' with reasoning.\"},\n",
        "    {\"role\": \"user\", \"content\": \"Predict diabetes risk for a patient with age: 46, gender: Male, BMI: 31, glucose: 88, hypertension: Yes.\"}\n",
        "]\n",
        "\n",
        "response = openClient.chat.completions.create(\n",
        "    model=\"gpt-4o-mini\",\n",
        "    messages=messages\n",
        ")\n",
        "\n",
        "print(response.choices[0].message.content)"
      ],
      "metadata": {
        "colab": {
          "base_uri": "https://localhost:8080/"
        },
        "id": "A4BCAYQP-x3_",
        "outputId": "fc129ad4-3929-49bc-964e-4584f5a2adb6"
      },
      "execution_count": 13,
      "outputs": [
        {
          "output_type": "stream",
          "name": "stdout",
          "text": [
            "Yes. \n",
            "\n",
            "Reasoning: The patient's age (46) and BMI (31) classify him as obese, which significantly increases the risk of developing type 2 diabetes. Additionally, having hypertension is another risk factor for diabetes. While the glucose level of 88 is within the normal range, the combination of obesity and hypertension raises the overall risk of diabetes for this patient.\n"
          ]
        }
      ]
    },
    {
      "cell_type": "code",
      "source": [
        "# few shots\n",
        "messages = [\n",
        "    {\"role\": \"system\", \"content\": \"You are a doctor or an expert trained to predict Diabetes risk based on patient data. Respond with 'Yes' or 'No' only, and explain your reasoning.\"},\n",
        "    {\"role\": \"user\", \"content\": \"\"\"Here are a few patient cases. Predict if the patient has diabetes and explain your reasoning:\n",
        "\n",
        "    Case 1: Age: 60, Gender: Male, BMI: 35, Glucose: 180, Hypertension: Yes → Diabetes: Yes\n",
        "\n",
        "    Case 2: Age: 45, Gender: Female, BMI: 24, Glucose: 90, Hypertension: No → Diabetes: No\n",
        "\n",
        "    Case 3: Age: 50, Gender: Male, BMI: 31, Glucose: 160, Hypertension: Yes → Diabetes: Yes\n",
        "\n",
        "    Predict diabetes risk for a new patient: Age: 46, gender: Male, BMI: 31, glucose: 88, hypertension: Yes.. Prediction: Diabetes: \"\"\"}\n",
        "]\n",
        "\n",
        "response = openClient.chat.completions.create(\n",
        "    model=\"gpt-4o-mini\",\n",
        "    messages=messages\n",
        ")\n",
        "\n",
        "print(response.choices[0].message.content)\n"
      ],
      "metadata": {
        "colab": {
          "base_uri": "https://localhost:8080/"
        },
        "id": "OaVh1PC7Q8mE",
        "outputId": "15e626a9-2ee5-4fea-d315-c0d23596b645"
      },
      "execution_count": 14,
      "outputs": [
        {
          "output_type": "stream",
          "name": "stdout",
          "text": [
            "No\n"
          ]
        }
      ]
    },
    {
      "cell_type": "code",
      "source": [
        "#Chain of Thought\n",
        "messages = [\n",
        "    {\"role\": \"system\", \"content\": \"You are a doctor or an expert trained to predict Diabetes risk based on patient data. Respond with 'Yes' or 'No' only, and provide a detailed explanation for the reasoning behind the prediction.\"},\n",
        "    {\"role\": \"user\", \"content\": \"\"\"Here is a patient case. Predict diabetes risk and explain your reasoning:\n",
        "\n",
        "    Age: 46, Gender: Male, BMI: 31, Glucose: 88, Hypertension: Yes.\"\"\"},\n",
        "    {\"role\": \"assistant\", \"content\": \"\"\"Let's analyze the risk factors step by step:\n",
        "\n",
        "    - **Age (46)**: While being over 45 slightly increases diabetes risk, it is not a strong factor alone.\n",
        "    - **BMI (31)**: A BMI above 30 is classified as obese, which is a known risk factor for diabetes.\n",
        "    - **Glucose Level (88 mg/dL)**: This is well within the normal fasting glucose range (70-99 mg/dL), indicating no immediate concern for hyperglycemia.\n",
        "    - **Hypertension (Yes)**: While high blood pressure is associated with metabolic disorders, it does not directly confirm diabetes without other contributing factors.\n",
        "\n",
        "    Given that the glucose level is normal and there are no strong indicators of diabetes apart from BMI and hypertension, the prediction is: **Diabetes: No.**\"\"\"}\n",
        "]\n",
        "\n",
        "response = openClient.chat.completions.create(\n",
        "    model=\"gpt-4o-mini\",\n",
        "    messages=messages\n",
        ")\n",
        "\n",
        "print(response.choices[0].message.content)\n"
      ],
      "metadata": {
        "colab": {
          "base_uri": "https://localhost:8080/"
        },
        "id": "ZgZvspW4WCJc",
        "outputId": "74a6fb72-1b7a-4cec-cf3e-4282b02c1f8d"
      },
      "execution_count": 15,
      "outputs": [
        {
          "output_type": "stream",
          "name": "stdout",
          "text": [
            "No. \n",
            "\n",
            "The reasoning behind this prediction is as follows:\n",
            "\n",
            "- **Age (46)**: While age is a factor that can increase the risk of diabetes, at 46, this patient is not yet in a particularly high-risk age group compared to older populations.\n",
            "  \n",
            "- **BMI (31)**: This indicates obesity, which is a significant risk factor for developing type 2 diabetes. Obesity can lead to insulin resistance, which is a precursor to diabetes.\n",
            "\n",
            "- **Glucose Level (88 mg/dL)**: A glucose level of 88 mg/dL is normal, falling within the standard fasting range of 70-99 mg/dL. This is encouraging, as it suggests that the patient's body is currently regulating blood sugar effectively.\n",
            "\n",
            "- **Hypertension (Yes)**: High blood pressure is another risk factor associated with diabetes, but it alone does not confirm the disease; however, it does suggest a need for monitoring and lifestyle adjustments.\n",
            "\n",
            "Combining these factors reveals that while the patient presents with a significant risk factor (obesity) and concurrent hypertension, the normal glucose level indicates they may not yet have diabetes. Therefore, based on the information provided, the overall risk assessment leans towards a prediction of **No** for current diabetes status, but the individual certainly warrants close monitoring for future risk.\n"
          ]
        }
      ]
    },
    {
      "cell_type": "code",
      "source": [
        "# Decision Tree Approach\n",
        "messages = [\n",
        "    {\"role\": \"system\", \"content\": \"You are a doctor or an expert trained to use a decision tree for predicting Diabetes based on patient data. Follow the given decision tree strictly.\"},\n",
        "    {\"role\": \"user\", \"content\": \"\"\"Use the following decision tree to predict diabetes risk for the patient:\n",
        "\n",
        "    Decision Tree:\n",
        "      1. Age >= 45? → Yes → Proceed to step 2.\n",
        "      2. BMI >= 30? → Yes → Proceed to step 3.\n",
        "      3. Glucose >= 160? → Yes → Diabetes: Yes.\n",
        "      4. Glucose < 160? → No → Diabetes: No.\n",
        "\n",
        "    Patient Data: Age: 46, Gender: Male, BMI: 31, Glucose: 88, Hypertension: Yes\n",
        "\n",
        "    Follow the decision tree step by step and provide the prediction.\"\"\"},\n",
        "    {\"role\": \"assistant\", \"content\": \"\"\"Let's apply the decision tree:\n",
        "\n",
        "    - Step 1: Age = 46 (≥ 45) → Yes, proceed to step 2.\n",
        "    - Step 2: BMI = 31 (≥ 30) → Yes, proceed to step 3.\n",
        "    - Step 3: Glucose = 88 (< 160) → No, proceed to step 4.\n",
        "    - Step 4: Glucose < 160 → No.\n",
        "\n",
        "    Final Prediction: Diabetes: No.\"\"\"}\n",
        "]\n",
        "\n",
        "response = openClient.chat.completions.create(\n",
        "    model=\"gpt-4o-mini\",\n",
        "    messages=messages\n",
        ")\n",
        "\n",
        "print(response.choices[0].message.content)\n"
      ],
      "metadata": {
        "colab": {
          "base_uri": "https://localhost:8080/"
        },
        "id": "R2aSLGpgW5qC",
        "outputId": "91d03e30-2cb6-4ff7-e3da-b465307946dc"
      },
      "execution_count": 16,
      "outputs": [
        {
          "output_type": "stream",
          "name": "stdout",
          "text": [
            "Based on the decision tree, here is the step-by-step application for the patient's data (Age: 46, BMI: 31, Glucose: 88):\n",
            "\n",
            "1. **Step 1:** Age = 46 (≥ 45) → Yes, proceed to step 2.\n",
            "2. **Step 2:** BMI = 31 (≥ 30) → Yes, proceed to step 3.\n",
            "3. **Step 3:** Glucose = 88 (< 160) → No, proceed to step 4.\n",
            "4. **Step 4:** Glucose < 160 → No.\n",
            "\n",
            "**Final Prediction:** Diabetes: No.\n"
          ]
        }
      ]
    },
    {
      "cell_type": "markdown",
      "source": [
        "**Process Synthetic Medical Data**"
      ],
      "metadata": {
        "id": "6UMt8JlUb--A"
      }
    },
    {
      "cell_type": "code",
      "source": [
        "# Load datasets into a pandas DataFrame,\n",
        "patients = pd.read_csv(\"/content/drive/MyDrive/Colab Notebooks/AIH/LLM/patients.csv\")\n",
        "conditions = pd.read_csv(\"/content/drive/MyDrive/Colab Notebooks/AIH/LLM/conditions.csv\")\n",
        "observations = pd.read_csv(\"/content/drive/MyDrive/Colab Notebooks/AIH/LLM/observations.csv\")"
      ],
      "metadata": {
        "id": "gy-R7ImCpqAA"
      },
      "execution_count": 17,
      "outputs": []
    },
    {
      "cell_type": "code",
      "source": [
        "patients.head(1)"
      ],
      "metadata": {
        "colab": {
          "base_uri": "https://localhost:8080/",
          "height": 98
        },
        "id": "NvQjZd0OsKq4",
        "outputId": "aa44af3f-49ef-4496-e2ca-a67eb70fdaa4"
      },
      "execution_count": 18,
      "outputs": [
        {
          "output_type": "execute_result",
          "data": {
            "text/plain": [
              "                                patient   birthdate   deathdate          ssn  \\\n",
              "0  4ee2c837-e60f-4c54-9fdf-8686bc70760b  1929-04-08  2029-11-11  999-78-5976   \n",
              "\n",
              "  drivers passport prefix      first          last suffix maiden marital  \\\n",
              "0     NaN      NaN    NaN  Rosamaria  Pfannerstill    NaN    NaN     NaN   \n",
              "\n",
              "    race  ethnicity gender        birthplace  \\\n",
              "0  black  dominican      F  Pittsfield MA US   \n",
              "\n",
              "                                             address  \n",
              "0  18797 Karson Burgs Suite 444 Palmer Town MA 01...  "
            ],
            "text/html": [
              "\n",
              "  <div id=\"df-4aff1c33-06a4-4397-8bdc-d65a7550961b\" class=\"colab-df-container\">\n",
              "    <div>\n",
              "<style scoped>\n",
              "    .dataframe tbody tr th:only-of-type {\n",
              "        vertical-align: middle;\n",
              "    }\n",
              "\n",
              "    .dataframe tbody tr th {\n",
              "        vertical-align: top;\n",
              "    }\n",
              "\n",
              "    .dataframe thead th {\n",
              "        text-align: right;\n",
              "    }\n",
              "</style>\n",
              "<table border=\"1\" class=\"dataframe\">\n",
              "  <thead>\n",
              "    <tr style=\"text-align: right;\">\n",
              "      <th></th>\n",
              "      <th>patient</th>\n",
              "      <th>birthdate</th>\n",
              "      <th>deathdate</th>\n",
              "      <th>ssn</th>\n",
              "      <th>drivers</th>\n",
              "      <th>passport</th>\n",
              "      <th>prefix</th>\n",
              "      <th>first</th>\n",
              "      <th>last</th>\n",
              "      <th>suffix</th>\n",
              "      <th>maiden</th>\n",
              "      <th>marital</th>\n",
              "      <th>race</th>\n",
              "      <th>ethnicity</th>\n",
              "      <th>gender</th>\n",
              "      <th>birthplace</th>\n",
              "      <th>address</th>\n",
              "    </tr>\n",
              "  </thead>\n",
              "  <tbody>\n",
              "    <tr>\n",
              "      <th>0</th>\n",
              "      <td>4ee2c837-e60f-4c54-9fdf-8686bc70760b</td>\n",
              "      <td>1929-04-08</td>\n",
              "      <td>2029-11-11</td>\n",
              "      <td>999-78-5976</td>\n",
              "      <td>NaN</td>\n",
              "      <td>NaN</td>\n",
              "      <td>NaN</td>\n",
              "      <td>Rosamaria</td>\n",
              "      <td>Pfannerstill</td>\n",
              "      <td>NaN</td>\n",
              "      <td>NaN</td>\n",
              "      <td>NaN</td>\n",
              "      <td>black</td>\n",
              "      <td>dominican</td>\n",
              "      <td>F</td>\n",
              "      <td>Pittsfield MA US</td>\n",
              "      <td>18797 Karson Burgs Suite 444 Palmer Town MA 01...</td>\n",
              "    </tr>\n",
              "  </tbody>\n",
              "</table>\n",
              "</div>\n",
              "    <div class=\"colab-df-buttons\">\n",
              "\n",
              "  <div class=\"colab-df-container\">\n",
              "    <button class=\"colab-df-convert\" onclick=\"convertToInteractive('df-4aff1c33-06a4-4397-8bdc-d65a7550961b')\"\n",
              "            title=\"Convert this dataframe to an interactive table.\"\n",
              "            style=\"display:none;\">\n",
              "\n",
              "  <svg xmlns=\"http://www.w3.org/2000/svg\" height=\"24px\" viewBox=\"0 -960 960 960\">\n",
              "    <path d=\"M120-120v-720h720v720H120Zm60-500h600v-160H180v160Zm220 220h160v-160H400v160Zm0 220h160v-160H400v160ZM180-400h160v-160H180v160Zm440 0h160v-160H620v160ZM180-180h160v-160H180v160Zm440 0h160v-160H620v160Z\"/>\n",
              "  </svg>\n",
              "    </button>\n",
              "\n",
              "  <style>\n",
              "    .colab-df-container {\n",
              "      display:flex;\n",
              "      gap: 12px;\n",
              "    }\n",
              "\n",
              "    .colab-df-convert {\n",
              "      background-color: #E8F0FE;\n",
              "      border: none;\n",
              "      border-radius: 50%;\n",
              "      cursor: pointer;\n",
              "      display: none;\n",
              "      fill: #1967D2;\n",
              "      height: 32px;\n",
              "      padding: 0 0 0 0;\n",
              "      width: 32px;\n",
              "    }\n",
              "\n",
              "    .colab-df-convert:hover {\n",
              "      background-color: #E2EBFA;\n",
              "      box-shadow: 0px 1px 2px rgba(60, 64, 67, 0.3), 0px 1px 3px 1px rgba(60, 64, 67, 0.15);\n",
              "      fill: #174EA6;\n",
              "    }\n",
              "\n",
              "    .colab-df-buttons div {\n",
              "      margin-bottom: 4px;\n",
              "    }\n",
              "\n",
              "    [theme=dark] .colab-df-convert {\n",
              "      background-color: #3B4455;\n",
              "      fill: #D2E3FC;\n",
              "    }\n",
              "\n",
              "    [theme=dark] .colab-df-convert:hover {\n",
              "      background-color: #434B5C;\n",
              "      box-shadow: 0px 1px 3px 1px rgba(0, 0, 0, 0.15);\n",
              "      filter: drop-shadow(0px 1px 2px rgba(0, 0, 0, 0.3));\n",
              "      fill: #FFFFFF;\n",
              "    }\n",
              "  </style>\n",
              "\n",
              "    <script>\n",
              "      const buttonEl =\n",
              "        document.querySelector('#df-4aff1c33-06a4-4397-8bdc-d65a7550961b button.colab-df-convert');\n",
              "      buttonEl.style.display =\n",
              "        google.colab.kernel.accessAllowed ? 'block' : 'none';\n",
              "\n",
              "      async function convertToInteractive(key) {\n",
              "        const element = document.querySelector('#df-4aff1c33-06a4-4397-8bdc-d65a7550961b');\n",
              "        const dataTable =\n",
              "          await google.colab.kernel.invokeFunction('convertToInteractive',\n",
              "                                                    [key], {});\n",
              "        if (!dataTable) return;\n",
              "\n",
              "        const docLinkHtml = 'Like what you see? Visit the ' +\n",
              "          '<a target=\"_blank\" href=https://colab.research.google.com/notebooks/data_table.ipynb>data table notebook</a>'\n",
              "          + ' to learn more about interactive tables.';\n",
              "        element.innerHTML = '';\n",
              "        dataTable['output_type'] = 'display_data';\n",
              "        await google.colab.output.renderOutput(dataTable, element);\n",
              "        const docLink = document.createElement('div');\n",
              "        docLink.innerHTML = docLinkHtml;\n",
              "        element.appendChild(docLink);\n",
              "      }\n",
              "    </script>\n",
              "  </div>\n",
              "\n",
              "\n",
              "    </div>\n",
              "  </div>\n"
            ],
            "application/vnd.google.colaboratory.intrinsic+json": {
              "type": "dataframe",
              "variable_name": "patients",
              "summary": "{\n  \"name\": \"patients\",\n  \"rows\": 1462,\n  \"fields\": [\n    {\n      \"column\": \"patient\",\n      \"properties\": {\n        \"dtype\": \"string\",\n        \"num_unique_values\": 1462,\n        \"samples\": [\n          \"c6d0a482-6cb1-4f69-b04d-971eb9ed6365\",\n          \"b2301dc8-edc8-4e55-9433-592b83df7183\",\n          \"233f17a2-51e3-400c-b5c1-748a0071b4f3\"\n        ],\n        \"semantic_type\": \"\",\n        \"description\": \"\"\n      }\n    },\n    {\n      \"column\": \"birthdate\",\n      \"properties\": {\n        \"dtype\": \"object\",\n        \"num_unique_values\": 1431,\n        \"samples\": [\n          \"1951-07-23\",\n          \"1963-10-06\",\n          \"1920-12-03\"\n        ],\n        \"semantic_type\": \"\",\n        \"description\": \"\"\n      }\n    },\n    {\n      \"column\": \"deathdate\",\n      \"properties\": {\n        \"dtype\": \"object\",\n        \"num_unique_values\": 448,\n        \"samples\": [\n          \"1995-12-20\",\n          \"1994-09-28\",\n          \"2009-08-05\"\n        ],\n        \"semantic_type\": \"\",\n        \"description\": \"\"\n      }\n    },\n    {\n      \"column\": \"ssn\",\n      \"properties\": {\n        \"dtype\": \"string\",\n        \"num_unique_values\": 1460,\n        \"samples\": [\n          \"999-92-3540\",\n          \"999-63-8167\",\n          \"999-36-9833\"\n        ],\n        \"semantic_type\": \"\",\n        \"description\": \"\"\n      }\n    },\n    {\n      \"column\": \"drivers\",\n      \"properties\": {\n        \"dtype\": \"string\",\n        \"num_unique_values\": 1189,\n        \"samples\": [\n          \"S99976900\",\n          \"S99966936\",\n          \"S99979494\"\n        ],\n        \"semantic_type\": \"\",\n        \"description\": \"\"\n      }\n    },\n    {\n      \"column\": \"passport\",\n      \"properties\": {\n        \"dtype\": \"category\",\n        \"num_unique_values\": 560,\n        \"samples\": [\n          \"X16283748X\",\n          \"X82762145X\",\n          \"X32889288X\"\n        ],\n        \"semantic_type\": \"\",\n        \"description\": \"\"\n      }\n    },\n    {\n      \"column\": \"prefix\",\n      \"properties\": {\n        \"dtype\": \"category\",\n        \"num_unique_values\": 3,\n        \"samples\": [\n          \"Mr.\",\n          \"Mrs.\",\n          \"Ms.\"\n        ],\n        \"semantic_type\": \"\",\n        \"description\": \"\"\n      }\n    },\n    {\n      \"column\": \"first\",\n      \"properties\": {\n        \"dtype\": \"string\",\n        \"num_unique_values\": 1202,\n        \"samples\": [\n          \"Vicente\",\n          \"Nicolas\",\n          \"Bo\"\n        ],\n        \"semantic_type\": \"\",\n        \"description\": \"\"\n      }\n    },\n    {\n      \"column\": \"last\",\n      \"properties\": {\n        \"dtype\": \"category\",\n        \"num_unique_values\": 453,\n        \"samples\": [\n          \"Marquardt\",\n          \"Trantow\",\n          \"Rogahn\"\n        ],\n        \"semantic_type\": \"\",\n        \"description\": \"\"\n      }\n    },\n    {\n      \"column\": \"suffix\",\n      \"properties\": {\n        \"dtype\": \"category\",\n        \"num_unique_values\": 3,\n        \"samples\": [\n          \"PhD\",\n          \"JD\",\n          \"MD\"\n        ],\n        \"semantic_type\": \"\",\n        \"description\": \"\"\n      }\n    },\n    {\n      \"column\": \"maiden\",\n      \"properties\": {\n        \"dtype\": \"category\",\n        \"num_unique_values\": 271,\n        \"samples\": [\n          \"Greenfelder\",\n          \"Macejkovic\",\n          \"Wunsch\"\n        ],\n        \"semantic_type\": \"\",\n        \"description\": \"\"\n      }\n    },\n    {\n      \"column\": \"marital\",\n      \"properties\": {\n        \"dtype\": \"category\",\n        \"num_unique_values\": 2,\n        \"samples\": [\n          \"M\",\n          \"S\"\n        ],\n        \"semantic_type\": \"\",\n        \"description\": \"\"\n      }\n    },\n    {\n      \"column\": \"race\",\n      \"properties\": {\n        \"dtype\": \"category\",\n        \"num_unique_values\": 4,\n        \"samples\": [\n          \"white\",\n          \"asian\"\n        ],\n        \"semantic_type\": \"\",\n        \"description\": \"\"\n      }\n    },\n    {\n      \"column\": \"ethnicity\",\n      \"properties\": {\n        \"dtype\": \"category\",\n        \"num_unique_values\": 20,\n        \"samples\": [\n          \"dominican\",\n          \"asian_indian\"\n        ],\n        \"semantic_type\": \"\",\n        \"description\": \"\"\n      }\n    },\n    {\n      \"column\": \"gender\",\n      \"properties\": {\n        \"dtype\": \"category\",\n        \"num_unique_values\": 2,\n        \"samples\": [\n          \"M\",\n          \"F\"\n        ],\n        \"semantic_type\": \"\",\n        \"description\": \"\"\n      }\n    },\n    {\n      \"column\": \"birthplace\",\n      \"properties\": {\n        \"dtype\": \"category\",\n        \"num_unique_values\": 265,\n        \"samples\": [\n          \"Wakefield MA US\",\n          \"Raynham MA US\"\n        ],\n        \"semantic_type\": \"\",\n        \"description\": \"\"\n      }\n    },\n    {\n      \"column\": \"address\",\n      \"properties\": {\n        \"dtype\": \"string\",\n        \"num_unique_values\": 1462,\n        \"samples\": [\n          \"619 Maggio Summit Palmer Town MA 01069 US\",\n          \"77798 Howell Track Suite 247 Boston MA 02116 US\"\n        ],\n        \"semantic_type\": \"\",\n        \"description\": \"\"\n      }\n    }\n  ]\n}"
            }
          },
          "metadata": {},
          "execution_count": 18
        }
      ]
    },
    {
      "cell_type": "code",
      "source": [
        "conditions.head(1)"
      ],
      "metadata": {
        "colab": {
          "base_uri": "https://localhost:8080/",
          "height": 81
        },
        "id": "x9XNWqAdwtKn",
        "outputId": "0b1dd758-c11d-4f96-e6ac-672235dbda56"
      },
      "execution_count": 19,
      "outputs": [
        {
          "output_type": "execute_result",
          "data": {
            "text/plain": [
              "        start        stop                               patient  \\\n",
              "0  2009-01-08  2009-01-21  71949668-1c2e-43ae-ab0a-64654608defb   \n",
              "\n",
              "                              encounter      code                  description  \n",
              "0  4d451e22-a354-40c9-8b33-b6126158666d  10509002  Acute bronchitis (disorder)  "
            ],
            "text/html": [
              "\n",
              "  <div id=\"df-8a7775cc-1c73-4037-9c00-a13e6969a0b7\" class=\"colab-df-container\">\n",
              "    <div>\n",
              "<style scoped>\n",
              "    .dataframe tbody tr th:only-of-type {\n",
              "        vertical-align: middle;\n",
              "    }\n",
              "\n",
              "    .dataframe tbody tr th {\n",
              "        vertical-align: top;\n",
              "    }\n",
              "\n",
              "    .dataframe thead th {\n",
              "        text-align: right;\n",
              "    }\n",
              "</style>\n",
              "<table border=\"1\" class=\"dataframe\">\n",
              "  <thead>\n",
              "    <tr style=\"text-align: right;\">\n",
              "      <th></th>\n",
              "      <th>start</th>\n",
              "      <th>stop</th>\n",
              "      <th>patient</th>\n",
              "      <th>encounter</th>\n",
              "      <th>code</th>\n",
              "      <th>description</th>\n",
              "    </tr>\n",
              "  </thead>\n",
              "  <tbody>\n",
              "    <tr>\n",
              "      <th>0</th>\n",
              "      <td>2009-01-08</td>\n",
              "      <td>2009-01-21</td>\n",
              "      <td>71949668-1c2e-43ae-ab0a-64654608defb</td>\n",
              "      <td>4d451e22-a354-40c9-8b33-b6126158666d</td>\n",
              "      <td>10509002</td>\n",
              "      <td>Acute bronchitis (disorder)</td>\n",
              "    </tr>\n",
              "  </tbody>\n",
              "</table>\n",
              "</div>\n",
              "    <div class=\"colab-df-buttons\">\n",
              "\n",
              "  <div class=\"colab-df-container\">\n",
              "    <button class=\"colab-df-convert\" onclick=\"convertToInteractive('df-8a7775cc-1c73-4037-9c00-a13e6969a0b7')\"\n",
              "            title=\"Convert this dataframe to an interactive table.\"\n",
              "            style=\"display:none;\">\n",
              "\n",
              "  <svg xmlns=\"http://www.w3.org/2000/svg\" height=\"24px\" viewBox=\"0 -960 960 960\">\n",
              "    <path d=\"M120-120v-720h720v720H120Zm60-500h600v-160H180v160Zm220 220h160v-160H400v160Zm0 220h160v-160H400v160ZM180-400h160v-160H180v160Zm440 0h160v-160H620v160ZM180-180h160v-160H180v160Zm440 0h160v-160H620v160Z\"/>\n",
              "  </svg>\n",
              "    </button>\n",
              "\n",
              "  <style>\n",
              "    .colab-df-container {\n",
              "      display:flex;\n",
              "      gap: 12px;\n",
              "    }\n",
              "\n",
              "    .colab-df-convert {\n",
              "      background-color: #E8F0FE;\n",
              "      border: none;\n",
              "      border-radius: 50%;\n",
              "      cursor: pointer;\n",
              "      display: none;\n",
              "      fill: #1967D2;\n",
              "      height: 32px;\n",
              "      padding: 0 0 0 0;\n",
              "      width: 32px;\n",
              "    }\n",
              "\n",
              "    .colab-df-convert:hover {\n",
              "      background-color: #E2EBFA;\n",
              "      box-shadow: 0px 1px 2px rgba(60, 64, 67, 0.3), 0px 1px 3px 1px rgba(60, 64, 67, 0.15);\n",
              "      fill: #174EA6;\n",
              "    }\n",
              "\n",
              "    .colab-df-buttons div {\n",
              "      margin-bottom: 4px;\n",
              "    }\n",
              "\n",
              "    [theme=dark] .colab-df-convert {\n",
              "      background-color: #3B4455;\n",
              "      fill: #D2E3FC;\n",
              "    }\n",
              "\n",
              "    [theme=dark] .colab-df-convert:hover {\n",
              "      background-color: #434B5C;\n",
              "      box-shadow: 0px 1px 3px 1px rgba(0, 0, 0, 0.15);\n",
              "      filter: drop-shadow(0px 1px 2px rgba(0, 0, 0, 0.3));\n",
              "      fill: #FFFFFF;\n",
              "    }\n",
              "  </style>\n",
              "\n",
              "    <script>\n",
              "      const buttonEl =\n",
              "        document.querySelector('#df-8a7775cc-1c73-4037-9c00-a13e6969a0b7 button.colab-df-convert');\n",
              "      buttonEl.style.display =\n",
              "        google.colab.kernel.accessAllowed ? 'block' : 'none';\n",
              "\n",
              "      async function convertToInteractive(key) {\n",
              "        const element = document.querySelector('#df-8a7775cc-1c73-4037-9c00-a13e6969a0b7');\n",
              "        const dataTable =\n",
              "          await google.colab.kernel.invokeFunction('convertToInteractive',\n",
              "                                                    [key], {});\n",
              "        if (!dataTable) return;\n",
              "\n",
              "        const docLinkHtml = 'Like what you see? Visit the ' +\n",
              "          '<a target=\"_blank\" href=https://colab.research.google.com/notebooks/data_table.ipynb>data table notebook</a>'\n",
              "          + ' to learn more about interactive tables.';\n",
              "        element.innerHTML = '';\n",
              "        dataTable['output_type'] = 'display_data';\n",
              "        await google.colab.output.renderOutput(dataTable, element);\n",
              "        const docLink = document.createElement('div');\n",
              "        docLink.innerHTML = docLinkHtml;\n",
              "        element.appendChild(docLink);\n",
              "      }\n",
              "    </script>\n",
              "  </div>\n",
              "\n",
              "\n",
              "    </div>\n",
              "  </div>\n"
            ],
            "application/vnd.google.colaboratory.intrinsic+json": {
              "type": "dataframe",
              "variable_name": "conditions",
              "summary": "{\n  \"name\": \"conditions\",\n  \"rows\": 7040,\n  \"fields\": [\n    {\n      \"column\": \"start\",\n      \"properties\": {\n        \"dtype\": \"object\",\n        \"num_unique_values\": 4710,\n        \"samples\": [\n          \"2017-02-10\",\n          \"2003-02-07\",\n          \"1982-02-20\"\n        ],\n        \"semantic_type\": \"\",\n        \"description\": \"\"\n      }\n    },\n    {\n      \"column\": \"stop\",\n      \"properties\": {\n        \"dtype\": \"object\",\n        \"num_unique_values\": 2449,\n        \"samples\": [\n          \"2011-01-10\",\n          \"2008-12-30\",\n          \"2016-09-02\"\n        ],\n        \"semantic_type\": \"\",\n        \"description\": \"\"\n      }\n    },\n    {\n      \"column\": \"patient\",\n      \"properties\": {\n        \"dtype\": \"category\",\n        \"num_unique_values\": 1404,\n        \"samples\": [\n          \"e56c97b6-db78-4a0c-8efc-98ad63184b09\",\n          \"767338b8-cbde-4684-971d-254ac43cee0b\",\n          \"4b71c2cd-a861-4985-92f9-f3a38b9586fb\"\n        ],\n        \"semantic_type\": \"\",\n        \"description\": \"\"\n      }\n    },\n    {\n      \"column\": \"encounter\",\n      \"properties\": {\n        \"dtype\": \"string\",\n        \"num_unique_values\": 4993,\n        \"samples\": [\n          \"1e939af8-2394-4094-be16-90fb9f62e580\",\n          \"f677bc18-9778-4271-b979-5592996b898f\",\n          \"8a615664-88b5-470b-98f5-54b07d9b02ee\"\n        ],\n        \"semantic_type\": \"\",\n        \"description\": \"\"\n      }\n    },\n    {\n      \"column\": \"code\",\n      \"properties\": {\n        \"dtype\": \"number\",\n        \"std\": 32283405492220,\n        \"min\": 6072007,\n        \"max\": 368581000119106,\n        \"num_unique_values\": 118,\n        \"samples\": [\n          26929004,\n          233678006,\n          301011002\n        ],\n        \"semantic_type\": \"\",\n        \"description\": \"\"\n      }\n    },\n    {\n      \"column\": \"description\",\n      \"properties\": {\n        \"dtype\": \"category\",\n        \"num_unique_values\": 118,\n        \"samples\": [\n          \"Alzheimer's disease (disorder)\",\n          \"Childhood asthma\",\n          \"Escherichia coli urinary tract infection\"\n        ],\n        \"semantic_type\": \"\",\n        \"description\": \"\"\n      }\n    }\n  ]\n}"
            }
          },
          "metadata": {},
          "execution_count": 19
        }
      ]
    },
    {
      "cell_type": "code",
      "source": [
        "observations.head(1)"
      ],
      "metadata": {
        "colab": {
          "base_uri": "https://localhost:8080/",
          "height": 81
        },
        "id": "4Vs1du6x7b8y",
        "outputId": "cf8ade9e-568e-464b-85a4-ae2547abc871"
      },
      "execution_count": 20,
      "outputs": [
        {
          "output_type": "execute_result",
          "data": {
            "text/plain": [
              "         date                               patient  \\\n",
              "0  2008-03-11  71949668-1c2e-43ae-ab0a-64654608defb   \n",
              "\n",
              "                              encounter    code  description   value units  \n",
              "0  5114a5b4-64b8-47b2-82a6-0ce24aae0943  8302-2  Body Height  166.03    cm  "
            ],
            "text/html": [
              "\n",
              "  <div id=\"df-46cbdda6-cf46-4978-8f7c-8fa584d40b7e\" class=\"colab-df-container\">\n",
              "    <div>\n",
              "<style scoped>\n",
              "    .dataframe tbody tr th:only-of-type {\n",
              "        vertical-align: middle;\n",
              "    }\n",
              "\n",
              "    .dataframe tbody tr th {\n",
              "        vertical-align: top;\n",
              "    }\n",
              "\n",
              "    .dataframe thead th {\n",
              "        text-align: right;\n",
              "    }\n",
              "</style>\n",
              "<table border=\"1\" class=\"dataframe\">\n",
              "  <thead>\n",
              "    <tr style=\"text-align: right;\">\n",
              "      <th></th>\n",
              "      <th>date</th>\n",
              "      <th>patient</th>\n",
              "      <th>encounter</th>\n",
              "      <th>code</th>\n",
              "      <th>description</th>\n",
              "      <th>value</th>\n",
              "      <th>units</th>\n",
              "    </tr>\n",
              "  </thead>\n",
              "  <tbody>\n",
              "    <tr>\n",
              "      <th>0</th>\n",
              "      <td>2008-03-11</td>\n",
              "      <td>71949668-1c2e-43ae-ab0a-64654608defb</td>\n",
              "      <td>5114a5b4-64b8-47b2-82a6-0ce24aae0943</td>\n",
              "      <td>8302-2</td>\n",
              "      <td>Body Height</td>\n",
              "      <td>166.03</td>\n",
              "      <td>cm</td>\n",
              "    </tr>\n",
              "  </tbody>\n",
              "</table>\n",
              "</div>\n",
              "    <div class=\"colab-df-buttons\">\n",
              "\n",
              "  <div class=\"colab-df-container\">\n",
              "    <button class=\"colab-df-convert\" onclick=\"convertToInteractive('df-46cbdda6-cf46-4978-8f7c-8fa584d40b7e')\"\n",
              "            title=\"Convert this dataframe to an interactive table.\"\n",
              "            style=\"display:none;\">\n",
              "\n",
              "  <svg xmlns=\"http://www.w3.org/2000/svg\" height=\"24px\" viewBox=\"0 -960 960 960\">\n",
              "    <path d=\"M120-120v-720h720v720H120Zm60-500h600v-160H180v160Zm220 220h160v-160H400v160Zm0 220h160v-160H400v160ZM180-400h160v-160H180v160Zm440 0h160v-160H620v160ZM180-180h160v-160H180v160Zm440 0h160v-160H620v160Z\"/>\n",
              "  </svg>\n",
              "    </button>\n",
              "\n",
              "  <style>\n",
              "    .colab-df-container {\n",
              "      display:flex;\n",
              "      gap: 12px;\n",
              "    }\n",
              "\n",
              "    .colab-df-convert {\n",
              "      background-color: #E8F0FE;\n",
              "      border: none;\n",
              "      border-radius: 50%;\n",
              "      cursor: pointer;\n",
              "      display: none;\n",
              "      fill: #1967D2;\n",
              "      height: 32px;\n",
              "      padding: 0 0 0 0;\n",
              "      width: 32px;\n",
              "    }\n",
              "\n",
              "    .colab-df-convert:hover {\n",
              "      background-color: #E2EBFA;\n",
              "      box-shadow: 0px 1px 2px rgba(60, 64, 67, 0.3), 0px 1px 3px 1px rgba(60, 64, 67, 0.15);\n",
              "      fill: #174EA6;\n",
              "    }\n",
              "\n",
              "    .colab-df-buttons div {\n",
              "      margin-bottom: 4px;\n",
              "    }\n",
              "\n",
              "    [theme=dark] .colab-df-convert {\n",
              "      background-color: #3B4455;\n",
              "      fill: #D2E3FC;\n",
              "    }\n",
              "\n",
              "    [theme=dark] .colab-df-convert:hover {\n",
              "      background-color: #434B5C;\n",
              "      box-shadow: 0px 1px 3px 1px rgba(0, 0, 0, 0.15);\n",
              "      filter: drop-shadow(0px 1px 2px rgba(0, 0, 0, 0.3));\n",
              "      fill: #FFFFFF;\n",
              "    }\n",
              "  </style>\n",
              "\n",
              "    <script>\n",
              "      const buttonEl =\n",
              "        document.querySelector('#df-46cbdda6-cf46-4978-8f7c-8fa584d40b7e button.colab-df-convert');\n",
              "      buttonEl.style.display =\n",
              "        google.colab.kernel.accessAllowed ? 'block' : 'none';\n",
              "\n",
              "      async function convertToInteractive(key) {\n",
              "        const element = document.querySelector('#df-46cbdda6-cf46-4978-8f7c-8fa584d40b7e');\n",
              "        const dataTable =\n",
              "          await google.colab.kernel.invokeFunction('convertToInteractive',\n",
              "                                                    [key], {});\n",
              "        if (!dataTable) return;\n",
              "\n",
              "        const docLinkHtml = 'Like what you see? Visit the ' +\n",
              "          '<a target=\"_blank\" href=https://colab.research.google.com/notebooks/data_table.ipynb>data table notebook</a>'\n",
              "          + ' to learn more about interactive tables.';\n",
              "        element.innerHTML = '';\n",
              "        dataTable['output_type'] = 'display_data';\n",
              "        await google.colab.output.renderOutput(dataTable, element);\n",
              "        const docLink = document.createElement('div');\n",
              "        docLink.innerHTML = docLinkHtml;\n",
              "        element.appendChild(docLink);\n",
              "      }\n",
              "    </script>\n",
              "  </div>\n",
              "\n",
              "\n",
              "    </div>\n",
              "  </div>\n"
            ],
            "application/vnd.google.colaboratory.intrinsic+json": {
              "type": "dataframe",
              "variable_name": "observations",
              "summary": "{\n  \"name\": \"observations\",\n  \"rows\": 79674,\n  \"fields\": [\n    {\n      \"column\": \"date\",\n      \"properties\": {\n        \"dtype\": \"object\",\n        \"num_unique_values\": 3710,\n        \"samples\": [\n          \"2009-12-15\",\n          \"2009-01-31\",\n          \"2009-03-21\"\n        ],\n        \"semantic_type\": \"\",\n        \"description\": \"\"\n      }\n    },\n    {\n      \"column\": \"patient\",\n      \"properties\": {\n        \"dtype\": \"category\",\n        \"num_unique_values\": 1462,\n        \"samples\": [\n          \"bd2a6c0f-c87b-4751-b3fe-6ff79deeb1e0\",\n          \"ec975f14-6b73-4f19-9e78-2486785a4c3f\",\n          \"d70ee654-da70-41d0-af60-7d236ba800a7\"\n        ],\n        \"semantic_type\": \"\",\n        \"description\": \"\"\n      }\n    },\n    {\n      \"column\": \"encounter\",\n      \"properties\": {\n        \"dtype\": \"category\",\n        \"num_unique_values\": 9908,\n        \"samples\": [\n          \"d13a43c1-d847-4bc7-9e60-9b81ecb35491\",\n          \"5df3992e-6b2d-4fe0-b9b6-291714ea22bc\",\n          \"3ed94acb-78f9-4133-89bc-2b9b5a221dea\"\n        ],\n        \"semantic_type\": \"\",\n        \"description\": \"\"\n      }\n    },\n    {\n      \"column\": \"code\",\n      \"properties\": {\n        \"dtype\": \"category\",\n        \"num_unique_values\": 73,\n        \"samples\": [\n          \"8462-4\",\n          \"22298006\",\n          \"2093-3\"\n        ],\n        \"semantic_type\": \"\",\n        \"description\": \"\"\n      }\n    },\n    {\n      \"column\": \"description\",\n      \"properties\": {\n        \"dtype\": \"category\",\n        \"num_unique_values\": 73,\n        \"samples\": [\n          \"Diastolic Blood Pressure\",\n          \"Myocardial Infarction\",\n          \"Total Cholesterol\"\n        ],\n        \"semantic_type\": \"\",\n        \"description\": \"\"\n      }\n    },\n    {\n      \"column\": \"value\",\n      \"properties\": {\n        \"dtype\": \"category\",\n        \"num_unique_values\": 12753,\n        \"samples\": [\n          \"51.54\",\n          \"104.69\",\n          \"143.98\"\n        ],\n        \"semantic_type\": \"\",\n        \"description\": \"\"\n      }\n    },\n    {\n      \"column\": \"units\",\n      \"properties\": {\n        \"dtype\": \"category\",\n        \"num_unique_values\": 18,\n        \"samples\": [\n          \"cm\",\n          \"kg\",\n          \"mmol/L\"\n        ],\n        \"semantic_type\": \"\",\n        \"description\": \"\"\n      }\n    }\n  ]\n}"
            }
          },
          "metadata": {},
          "execution_count": 20
        }
      ]
    },
    {
      "cell_type": "code",
      "source": [
        "\"\"\"\n",
        "Data Preprocessing (Synthetic Medical Data)\n",
        "\"\"\"\n",
        "\n",
        "# Convert birthdate to age\n",
        "patients['birthdate'] = pd.to_datetime(patients['birthdate'])\n",
        "patients['age'] = (datetime.today() - patients['birthdate']).dt.days // 365  # Calculate age in years based on today's date\n",
        "\n",
        "# Filter patients age > 100\n",
        "patients = patients[patients['age'] < 100]\n",
        "\n",
        "# Extract diabetes diagnosis from conditions.csv\n",
        "conditions['Diabetes'] = conditions['description'] == \"Diabetes\"\n",
        "diabetes_patients = conditions[conditions['Diabetes']]['patient'].unique()\n",
        "\n",
        "# Label patients with diabetes\n",
        "patients['Diabetes'] = patients['patient'].isin(diabetes_patients).astype(int)\n",
        "\n",
        "# Convert 'value' to numeric, forcing errors to NaN (to handle any non-numeric values)\n",
        "observations['value'] = pd.to_numeric(observations['value'], errors='coerce')\n",
        "\n",
        "# Extract BMI, glucose, and hypertension from observations.csv\n",
        "# For BMI, filter observations that contain \"Body Mass Index\" and compute the mean BMI per patient\n",
        "bmi_df = observations[observations['description'].str.contains(\"Body Mass Index\", na=False)]\\\n",
        "    .groupby('patient')['value'].mean().reset_index()\n",
        "bmi_df.rename(columns={'value': 'BMI'}, inplace=True)  # Rename the 'value' column to 'BMI'\n",
        "\n",
        "# For Glucose, filter observations that contain \"Glucose\" and compute the mean glucose level per patient\n",
        "glucose_df = observations[observations['description'].str.contains(\"Glucose\", na=False)]\\\n",
        "    .groupby('patient')['value'].mean().reset_index()\n",
        "glucose_df.rename(columns={'value': 'Glucose_Level'}, inplace=True)  # Rename the 'value' column to 'Glucose_Level'\n",
        "\n",
        "# For Hypertension, filter conditions that contain \"Hypertension\", then mark patients with Hypertension\n",
        "hypertension_df = conditions[conditions['description'].str.contains(\"Hypertension\", na=False)]\\\n",
        "    .groupby('patient').size().reset_index(name='Hypertension')\n",
        "hypertension_df['Hypertension'] = 1  # If patient has hypertension, mark as 1\n",
        "\n",
        "# Merge dataframes: Merge BMI, Glucose, and Hypertension data with the main patient dataframe\n",
        "df = patients.merge(bmi_df, on='patient', how='left')  # Merge BMI data\n",
        "df = df.merge(glucose_df, on='patient', how='left')  # Merge Glucose data\n",
        "df = df.merge(hypertension_df, on='patient', how='left')  # Merge Hypertension data\n",
        "\n",
        "# Rename columns for better readability\n",
        "df.rename(columns={'age': 'Age'}, inplace=True)\n",
        "df.rename(columns={'gender': 'Gender'}, inplace=True)\n",
        "\n",
        "# Filter required columns\n",
        "# Keep only necessary columns in the DataFrame\n",
        "df = df[['Age', 'Gender', 'BMI', 'Glucose_Level', 'Hypertension', 'Diabetes']]\n",
        "\n",
        "# Convert categorical variables\n",
        "# Map 'M' to 1 and 'F' to 0 in the Gender column\n",
        "df['Gender'] = df['Gender'].map({'M': 1, 'F': 0})\n",
        "\n",
        "# Fill missing values with the mean of the respective columns\n",
        "# This will replace NaNs in numeric columns with the column's mean value\n",
        "df.fillna(df.mean(), inplace=True)\n",
        "\n",
        "# Display the length of the resulting DataFrame\n",
        "print(len(df))\n",
        "\n",
        "# Show the first few rows of the resulting DataFrame\n",
        "print(df.head())\n"
      ],
      "metadata": {
        "colab": {
          "base_uri": "https://localhost:8080/"
        },
        "id": "zv740fSPqHk6",
        "outputId": "ebc5c3d1-3dcf-4a17-9ab4-312009cdd645"
      },
      "execution_count": 21,
      "outputs": [
        {
          "output_type": "stream",
          "name": "stdout",
          "text": [
            "1330\n",
            "   Age  Gender        BMI  Glucose_Level  Hypertension  Diabetes\n",
            "0   96       0  28.328828      88.362686           1.0         0\n",
            "1    8       0  28.328828      88.362686           1.0         0\n",
            "2   81       1  30.395000      84.400000           1.0         0\n",
            "3   70       0  38.984444      76.777778           1.0         0\n",
            "4   90       1  23.060000      87.000000           1.0         0\n"
          ]
        }
      ]
    },
    {
      "cell_type": "code",
      "source": [
        "# Diabetes patient counts\n",
        "print(df['Diabetes'].value_counts())"
      ],
      "metadata": {
        "colab": {
          "base_uri": "https://localhost:8080/"
        },
        "id": "HnW2r_XYxT7x",
        "outputId": "98113b11-60ac-4eb1-9bd6-1bf97ff28c47"
      },
      "execution_count": 22,
      "outputs": [
        {
          "output_type": "stream",
          "name": "stdout",
          "text": [
            "Diabetes\n",
            "0    1247\n",
            "1      83\n",
            "Name: count, dtype: int64\n"
          ]
        }
      ]
    },
    {
      "cell_type": "code",
      "source": [
        "# Data is inbalance so lets downsample data\n",
        "\n",
        "# Separate the majority and minority classes based on the 'Diabetes' column\n",
        "df_majority = df[df['Diabetes'] == 0]\n",
        "df_minority = df[df['Diabetes'] == 1]\n",
        "\n",
        "# Downsample the majority class to match the minority class size\n",
        "df_majority_downsampled = resample(df_majority,\n",
        "                                   replace=False,\n",
        "                                   n_samples=len(df_minority),  # Match minority class size\n",
        "                                   random_state=42)\n",
        "\n",
        "# Combine the downsampled majority class with the minority class\n",
        "df_balanced = pd.concat([df_majority_downsampled, df_minority])\n",
        "\n",
        "# Display the new class distribution\n",
        "print(f'New class distribution:\\n{df_balanced[\"Diabetes\"].value_counts()}')"
      ],
      "metadata": {
        "colab": {
          "base_uri": "https://localhost:8080/"
        },
        "id": "PC_K6h2ixiQi",
        "outputId": "984a5ec5-2935-407a-acf1-b6253233ede2"
      },
      "execution_count": 23,
      "outputs": [
        {
          "output_type": "stream",
          "name": "stdout",
          "text": [
            "New class distribution:\n",
            "Diabetes\n",
            "0    83\n",
            "1    83\n",
            "Name: count, dtype: int64\n"
          ]
        }
      ]
    },
    {
      "cell_type": "code",
      "source": [
        "# Shuffle the dataset\n",
        "df_balanced = df_balanced.sample(frac=1, random_state=42).reset_index(drop=True)\n",
        "\n",
        "# Display the shuffled balanced dataset\n",
        "print(df_balanced.head(10))"
      ],
      "metadata": {
        "colab": {
          "base_uri": "https://localhost:8080/"
        },
        "id": "xF7_R7k-xoac",
        "outputId": "4f5c4ebe-3555-42a9-d156-5b72aeab3403"
      },
      "execution_count": 24,
      "outputs": [
        {
          "output_type": "stream",
          "name": "stdout",
          "text": [
            "   Age  Gender        BMI  Glucose_Level  Hypertension  Diabetes\n",
            "0   99       0  28.328828      88.362686           1.0         1\n",
            "1   59       0  30.260000     125.000000           1.0         1\n",
            "2   36       1  18.490000      88.362686           1.0         0\n",
            "3   34       0  23.828333      88.362686           1.0         0\n",
            "4   98       1  28.328828      88.362686           1.0         1\n",
            "5   80       0  27.531000      88.362686           1.0         0\n",
            "6   90       0  28.328828      88.362686           1.0         1\n",
            "7   64       1  35.568000      88.362686           1.0         0\n",
            "8   87       1  30.165556      92.666667           1.0         1\n",
            "9   93       1  28.328828      88.362686           1.0         1\n"
          ]
        }
      ]
    },
    {
      "cell_type": "code",
      "source": [
        "df_balanced[df_balanced['Age'] < 50].head(10)"
      ],
      "metadata": {
        "colab": {
          "base_uri": "https://localhost:8080/",
          "height": 363
        },
        "id": "lGCcCBXOMqJy",
        "outputId": "9962d626-a503-4461-938b-0a63912bfeb1"
      },
      "execution_count": 25,
      "outputs": [
        {
          "output_type": "execute_result",
          "data": {
            "text/plain": [
              "    Age  Gender        BMI  Glucose_Level  Hypertension  Diabetes\n",
              "2    36       1  18.490000      88.362686           1.0         0\n",
              "3    34       0  23.828333      88.362686           1.0         0\n",
              "11   12       1  12.690000      88.362686           1.0         0\n",
              "12   13       0  14.985000      88.362686           1.0         0\n",
              "14   13       1  14.846000      88.362686           1.0         0\n",
              "15   38       0  27.813333      88.362686           1.0         0\n",
              "17   30       1  23.250000      88.362686           1.0         0\n",
              "20   26       0  26.874444      88.362686           1.0         0\n",
              "22   46       0  25.216667      88.362686           1.0         0\n",
              "27   28       0  23.353000      88.362686           1.0         0"
            ],
            "text/html": [
              "\n",
              "  <div id=\"df-470330b1-6ea0-45f2-8637-9c9d88f57e97\" class=\"colab-df-container\">\n",
              "    <div>\n",
              "<style scoped>\n",
              "    .dataframe tbody tr th:only-of-type {\n",
              "        vertical-align: middle;\n",
              "    }\n",
              "\n",
              "    .dataframe tbody tr th {\n",
              "        vertical-align: top;\n",
              "    }\n",
              "\n",
              "    .dataframe thead th {\n",
              "        text-align: right;\n",
              "    }\n",
              "</style>\n",
              "<table border=\"1\" class=\"dataframe\">\n",
              "  <thead>\n",
              "    <tr style=\"text-align: right;\">\n",
              "      <th></th>\n",
              "      <th>Age</th>\n",
              "      <th>Gender</th>\n",
              "      <th>BMI</th>\n",
              "      <th>Glucose_Level</th>\n",
              "      <th>Hypertension</th>\n",
              "      <th>Diabetes</th>\n",
              "    </tr>\n",
              "  </thead>\n",
              "  <tbody>\n",
              "    <tr>\n",
              "      <th>2</th>\n",
              "      <td>36</td>\n",
              "      <td>1</td>\n",
              "      <td>18.490000</td>\n",
              "      <td>88.362686</td>\n",
              "      <td>1.0</td>\n",
              "      <td>0</td>\n",
              "    </tr>\n",
              "    <tr>\n",
              "      <th>3</th>\n",
              "      <td>34</td>\n",
              "      <td>0</td>\n",
              "      <td>23.828333</td>\n",
              "      <td>88.362686</td>\n",
              "      <td>1.0</td>\n",
              "      <td>0</td>\n",
              "    </tr>\n",
              "    <tr>\n",
              "      <th>11</th>\n",
              "      <td>12</td>\n",
              "      <td>1</td>\n",
              "      <td>12.690000</td>\n",
              "      <td>88.362686</td>\n",
              "      <td>1.0</td>\n",
              "      <td>0</td>\n",
              "    </tr>\n",
              "    <tr>\n",
              "      <th>12</th>\n",
              "      <td>13</td>\n",
              "      <td>0</td>\n",
              "      <td>14.985000</td>\n",
              "      <td>88.362686</td>\n",
              "      <td>1.0</td>\n",
              "      <td>0</td>\n",
              "    </tr>\n",
              "    <tr>\n",
              "      <th>14</th>\n",
              "      <td>13</td>\n",
              "      <td>1</td>\n",
              "      <td>14.846000</td>\n",
              "      <td>88.362686</td>\n",
              "      <td>1.0</td>\n",
              "      <td>0</td>\n",
              "    </tr>\n",
              "    <tr>\n",
              "      <th>15</th>\n",
              "      <td>38</td>\n",
              "      <td>0</td>\n",
              "      <td>27.813333</td>\n",
              "      <td>88.362686</td>\n",
              "      <td>1.0</td>\n",
              "      <td>0</td>\n",
              "    </tr>\n",
              "    <tr>\n",
              "      <th>17</th>\n",
              "      <td>30</td>\n",
              "      <td>1</td>\n",
              "      <td>23.250000</td>\n",
              "      <td>88.362686</td>\n",
              "      <td>1.0</td>\n",
              "      <td>0</td>\n",
              "    </tr>\n",
              "    <tr>\n",
              "      <th>20</th>\n",
              "      <td>26</td>\n",
              "      <td>0</td>\n",
              "      <td>26.874444</td>\n",
              "      <td>88.362686</td>\n",
              "      <td>1.0</td>\n",
              "      <td>0</td>\n",
              "    </tr>\n",
              "    <tr>\n",
              "      <th>22</th>\n",
              "      <td>46</td>\n",
              "      <td>0</td>\n",
              "      <td>25.216667</td>\n",
              "      <td>88.362686</td>\n",
              "      <td>1.0</td>\n",
              "      <td>0</td>\n",
              "    </tr>\n",
              "    <tr>\n",
              "      <th>27</th>\n",
              "      <td>28</td>\n",
              "      <td>0</td>\n",
              "      <td>23.353000</td>\n",
              "      <td>88.362686</td>\n",
              "      <td>1.0</td>\n",
              "      <td>0</td>\n",
              "    </tr>\n",
              "  </tbody>\n",
              "</table>\n",
              "</div>\n",
              "    <div class=\"colab-df-buttons\">\n",
              "\n",
              "  <div class=\"colab-df-container\">\n",
              "    <button class=\"colab-df-convert\" onclick=\"convertToInteractive('df-470330b1-6ea0-45f2-8637-9c9d88f57e97')\"\n",
              "            title=\"Convert this dataframe to an interactive table.\"\n",
              "            style=\"display:none;\">\n",
              "\n",
              "  <svg xmlns=\"http://www.w3.org/2000/svg\" height=\"24px\" viewBox=\"0 -960 960 960\">\n",
              "    <path d=\"M120-120v-720h720v720H120Zm60-500h600v-160H180v160Zm220 220h160v-160H400v160Zm0 220h160v-160H400v160ZM180-400h160v-160H180v160Zm440 0h160v-160H620v160ZM180-180h160v-160H180v160Zm440 0h160v-160H620v160Z\"/>\n",
              "  </svg>\n",
              "    </button>\n",
              "\n",
              "  <style>\n",
              "    .colab-df-container {\n",
              "      display:flex;\n",
              "      gap: 12px;\n",
              "    }\n",
              "\n",
              "    .colab-df-convert {\n",
              "      background-color: #E8F0FE;\n",
              "      border: none;\n",
              "      border-radius: 50%;\n",
              "      cursor: pointer;\n",
              "      display: none;\n",
              "      fill: #1967D2;\n",
              "      height: 32px;\n",
              "      padding: 0 0 0 0;\n",
              "      width: 32px;\n",
              "    }\n",
              "\n",
              "    .colab-df-convert:hover {\n",
              "      background-color: #E2EBFA;\n",
              "      box-shadow: 0px 1px 2px rgba(60, 64, 67, 0.3), 0px 1px 3px 1px rgba(60, 64, 67, 0.15);\n",
              "      fill: #174EA6;\n",
              "    }\n",
              "\n",
              "    .colab-df-buttons div {\n",
              "      margin-bottom: 4px;\n",
              "    }\n",
              "\n",
              "    [theme=dark] .colab-df-convert {\n",
              "      background-color: #3B4455;\n",
              "      fill: #D2E3FC;\n",
              "    }\n",
              "\n",
              "    [theme=dark] .colab-df-convert:hover {\n",
              "      background-color: #434B5C;\n",
              "      box-shadow: 0px 1px 3px 1px rgba(0, 0, 0, 0.15);\n",
              "      filter: drop-shadow(0px 1px 2px rgba(0, 0, 0, 0.3));\n",
              "      fill: #FFFFFF;\n",
              "    }\n",
              "  </style>\n",
              "\n",
              "    <script>\n",
              "      const buttonEl =\n",
              "        document.querySelector('#df-470330b1-6ea0-45f2-8637-9c9d88f57e97 button.colab-df-convert');\n",
              "      buttonEl.style.display =\n",
              "        google.colab.kernel.accessAllowed ? 'block' : 'none';\n",
              "\n",
              "      async function convertToInteractive(key) {\n",
              "        const element = document.querySelector('#df-470330b1-6ea0-45f2-8637-9c9d88f57e97');\n",
              "        const dataTable =\n",
              "          await google.colab.kernel.invokeFunction('convertToInteractive',\n",
              "                                                    [key], {});\n",
              "        if (!dataTable) return;\n",
              "\n",
              "        const docLinkHtml = 'Like what you see? Visit the ' +\n",
              "          '<a target=\"_blank\" href=https://colab.research.google.com/notebooks/data_table.ipynb>data table notebook</a>'\n",
              "          + ' to learn more about interactive tables.';\n",
              "        element.innerHTML = '';\n",
              "        dataTable['output_type'] = 'display_data';\n",
              "        await google.colab.output.renderOutput(dataTable, element);\n",
              "        const docLink = document.createElement('div');\n",
              "        docLink.innerHTML = docLinkHtml;\n",
              "        element.appendChild(docLink);\n",
              "      }\n",
              "    </script>\n",
              "  </div>\n",
              "\n",
              "\n",
              "<div id=\"df-1ad91698-dfb0-4ea4-91ea-f1f9d30f3471\">\n",
              "  <button class=\"colab-df-quickchart\" onclick=\"quickchart('df-1ad91698-dfb0-4ea4-91ea-f1f9d30f3471')\"\n",
              "            title=\"Suggest charts\"\n",
              "            style=\"display:none;\">\n",
              "\n",
              "<svg xmlns=\"http://www.w3.org/2000/svg\" height=\"24px\"viewBox=\"0 0 24 24\"\n",
              "     width=\"24px\">\n",
              "    <g>\n",
              "        <path d=\"M19 3H5c-1.1 0-2 .9-2 2v14c0 1.1.9 2 2 2h14c1.1 0 2-.9 2-2V5c0-1.1-.9-2-2-2zM9 17H7v-7h2v7zm4 0h-2V7h2v10zm4 0h-2v-4h2v4z\"/>\n",
              "    </g>\n",
              "</svg>\n",
              "  </button>\n",
              "\n",
              "<style>\n",
              "  .colab-df-quickchart {\n",
              "      --bg-color: #E8F0FE;\n",
              "      --fill-color: #1967D2;\n",
              "      --hover-bg-color: #E2EBFA;\n",
              "      --hover-fill-color: #174EA6;\n",
              "      --disabled-fill-color: #AAA;\n",
              "      --disabled-bg-color: #DDD;\n",
              "  }\n",
              "\n",
              "  [theme=dark] .colab-df-quickchart {\n",
              "      --bg-color: #3B4455;\n",
              "      --fill-color: #D2E3FC;\n",
              "      --hover-bg-color: #434B5C;\n",
              "      --hover-fill-color: #FFFFFF;\n",
              "      --disabled-bg-color: #3B4455;\n",
              "      --disabled-fill-color: #666;\n",
              "  }\n",
              "\n",
              "  .colab-df-quickchart {\n",
              "    background-color: var(--bg-color);\n",
              "    border: none;\n",
              "    border-radius: 50%;\n",
              "    cursor: pointer;\n",
              "    display: none;\n",
              "    fill: var(--fill-color);\n",
              "    height: 32px;\n",
              "    padding: 0;\n",
              "    width: 32px;\n",
              "  }\n",
              "\n",
              "  .colab-df-quickchart:hover {\n",
              "    background-color: var(--hover-bg-color);\n",
              "    box-shadow: 0 1px 2px rgba(60, 64, 67, 0.3), 0 1px 3px 1px rgba(60, 64, 67, 0.15);\n",
              "    fill: var(--button-hover-fill-color);\n",
              "  }\n",
              "\n",
              "  .colab-df-quickchart-complete:disabled,\n",
              "  .colab-df-quickchart-complete:disabled:hover {\n",
              "    background-color: var(--disabled-bg-color);\n",
              "    fill: var(--disabled-fill-color);\n",
              "    box-shadow: none;\n",
              "  }\n",
              "\n",
              "  .colab-df-spinner {\n",
              "    border: 2px solid var(--fill-color);\n",
              "    border-color: transparent;\n",
              "    border-bottom-color: var(--fill-color);\n",
              "    animation:\n",
              "      spin 1s steps(1) infinite;\n",
              "  }\n",
              "\n",
              "  @keyframes spin {\n",
              "    0% {\n",
              "      border-color: transparent;\n",
              "      border-bottom-color: var(--fill-color);\n",
              "      border-left-color: var(--fill-color);\n",
              "    }\n",
              "    20% {\n",
              "      border-color: transparent;\n",
              "      border-left-color: var(--fill-color);\n",
              "      border-top-color: var(--fill-color);\n",
              "    }\n",
              "    30% {\n",
              "      border-color: transparent;\n",
              "      border-left-color: var(--fill-color);\n",
              "      border-top-color: var(--fill-color);\n",
              "      border-right-color: var(--fill-color);\n",
              "    }\n",
              "    40% {\n",
              "      border-color: transparent;\n",
              "      border-right-color: var(--fill-color);\n",
              "      border-top-color: var(--fill-color);\n",
              "    }\n",
              "    60% {\n",
              "      border-color: transparent;\n",
              "      border-right-color: var(--fill-color);\n",
              "    }\n",
              "    80% {\n",
              "      border-color: transparent;\n",
              "      border-right-color: var(--fill-color);\n",
              "      border-bottom-color: var(--fill-color);\n",
              "    }\n",
              "    90% {\n",
              "      border-color: transparent;\n",
              "      border-bottom-color: var(--fill-color);\n",
              "    }\n",
              "  }\n",
              "</style>\n",
              "\n",
              "  <script>\n",
              "    async function quickchart(key) {\n",
              "      const quickchartButtonEl =\n",
              "        document.querySelector('#' + key + ' button');\n",
              "      quickchartButtonEl.disabled = true;  // To prevent multiple clicks.\n",
              "      quickchartButtonEl.classList.add('colab-df-spinner');\n",
              "      try {\n",
              "        const charts = await google.colab.kernel.invokeFunction(\n",
              "            'suggestCharts', [key], {});\n",
              "      } catch (error) {\n",
              "        console.error('Error during call to suggestCharts:', error);\n",
              "      }\n",
              "      quickchartButtonEl.classList.remove('colab-df-spinner');\n",
              "      quickchartButtonEl.classList.add('colab-df-quickchart-complete');\n",
              "    }\n",
              "    (() => {\n",
              "      let quickchartButtonEl =\n",
              "        document.querySelector('#df-1ad91698-dfb0-4ea4-91ea-f1f9d30f3471 button');\n",
              "      quickchartButtonEl.style.display =\n",
              "        google.colab.kernel.accessAllowed ? 'block' : 'none';\n",
              "    })();\n",
              "  </script>\n",
              "</div>\n",
              "\n",
              "    </div>\n",
              "  </div>\n"
            ],
            "application/vnd.google.colaboratory.intrinsic+json": {
              "type": "dataframe",
              "summary": "{\n  \"name\": \"df_balanced[df_balanced['Age'] < 50]\",\n  \"rows\": 10,\n  \"fields\": [\n    {\n      \"column\": \"Age\",\n      \"properties\": {\n        \"dtype\": \"number\",\n        \"std\": 11,\n        \"min\": 12,\n        \"max\": 46,\n        \"num_unique_values\": 9,\n        \"samples\": [\n          46,\n          34,\n          30\n        ],\n        \"semantic_type\": \"\",\n        \"description\": \"\"\n      }\n    },\n    {\n      \"column\": \"Gender\",\n      \"properties\": {\n        \"dtype\": \"number\",\n        \"std\": 0,\n        \"min\": 0,\n        \"max\": 1,\n        \"num_unique_values\": 2,\n        \"samples\": [\n          0,\n          1\n        ],\n        \"semantic_type\": \"\",\n        \"description\": \"\"\n      }\n    },\n    {\n      \"column\": \"BMI\",\n      \"properties\": {\n        \"dtype\": \"number\",\n        \"std\": 5.4419790602105,\n        \"min\": 12.690000000000001,\n        \"max\": 27.813333333333333,\n        \"num_unique_values\": 10,\n        \"samples\": [\n          25.21666666666667,\n          23.828333333333333\n        ],\n        \"semantic_type\": \"\",\n        \"description\": \"\"\n      }\n    },\n    {\n      \"column\": \"Glucose_Level\",\n      \"properties\": {\n        \"dtype\": \"number\",\n        \"std\": 1.4979556132593925e-14,\n        \"min\": 88.36268556096681,\n        \"max\": 88.36268556096681,\n        \"num_unique_values\": 1,\n        \"samples\": [\n          88.36268556096681\n        ],\n        \"semantic_type\": \"\",\n        \"description\": \"\"\n      }\n    },\n    {\n      \"column\": \"Hypertension\",\n      \"properties\": {\n        \"dtype\": \"number\",\n        \"std\": 0.0,\n        \"min\": 1.0,\n        \"max\": 1.0,\n        \"num_unique_values\": 1,\n        \"samples\": [\n          1.0\n        ],\n        \"semantic_type\": \"\",\n        \"description\": \"\"\n      }\n    },\n    {\n      \"column\": \"Diabetes\",\n      \"properties\": {\n        \"dtype\": \"number\",\n        \"std\": 0,\n        \"min\": 0,\n        \"max\": 0,\n        \"num_unique_values\": 1,\n        \"samples\": [\n          0\n        ],\n        \"semantic_type\": \"\",\n        \"description\": \"\"\n      }\n    }\n  ]\n}"
            }
          },
          "metadata": {},
          "execution_count": 25
        }
      ]
    },
    {
      "cell_type": "markdown",
      "source": [
        "**Train Test Split**"
      ],
      "metadata": {
        "id": "pB4NmT0gckLV"
      }
    },
    {
      "cell_type": "code",
      "source": [
        "# Train Test split\n",
        "\n",
        "X = df_balanced.drop(columns=[\"Diabetes\"])\n",
        "y = df_balanced[\"Diabetes\"]\n",
        "\n",
        "# Split data into training and testing sets (80% train, 20% test)\n",
        "X_train, X_test, y_train, y_test = train_test_split(X, y, test_size=0.2, random_state=42)\n",
        "\n",
        "# Check the shape of the resulting datasets\n",
        "print(f'X_train shape: {X_train.shape}')\n",
        "print(f'X_test shape: {X_test.shape}')\n",
        "print(f'y_train shape: {y_train.shape}')\n",
        "print(f'y_test shape: {y_test.shape}')"
      ],
      "metadata": {
        "colab": {
          "base_uri": "https://localhost:8080/"
        },
        "id": "U0xV3ynvzj6-",
        "outputId": "a186217b-ffc9-4427-a1e9-d83a744f2a9c"
      },
      "execution_count": 26,
      "outputs": [
        {
          "output_type": "stream",
          "name": "stdout",
          "text": [
            "X_train shape: (132, 5)\n",
            "X_test shape: (34, 5)\n",
            "y_train shape: (132,)\n",
            "y_test shape: (34,)\n"
          ]
        }
      ]
    },
    {
      "cell_type": "code",
      "source": [
        "from torch.utils.data import Dataset\n",
        "\n",
        "class DiabetesDataset(Dataset):\n",
        "    def __init__(self, df):\n",
        "        \"\"\"\n",
        "        Initializes the dataset with a DataFrame containing patient information.\n",
        "        \"\"\"\n",
        "        self.df = df\n",
        "\n",
        "    def __len__(self):\n",
        "        return len(self.df)\n",
        "\n",
        "    def __getitem__(self, index):\n",
        "        \"\"\"\n",
        "        Returns a formatted string for diabetes prediction.\n",
        "        \"\"\"\n",
        "        column_names = [\n",
        "            (\"Age\", \"The patient's age is \"),\n",
        "            (\"Gender\", \". Gender is \"),\n",
        "            (\"BMI\", \". BMI is \"),\n",
        "            (\"Glucose_Level\", \". Glucose level is \"),\n",
        "            (\"Hypertension\", \". Hypertension status is \")\n",
        "        ]\n",
        "\n",
        "        # Convert row data into text description\n",
        "        x_strs = [f\"{col_desc}{self.df.iloc[index][col]}\" for col, col_desc in column_names]\n",
        "        x_str = ''.join(x_strs)\n",
        "\n",
        "        # Replace numerical values with meaningful labels\n",
        "        x_str = x_str.replace(\"Gender is 1\", \"Gender is Male\")\n",
        "        x_str = x_str.replace(\"Gender is 0\", \"Gender is Female\")\n",
        "        x_str = x_str.replace(\"Hypertension status is 1\", \"Hypertension status is Yes\")\n",
        "        x_str = x_str.replace(\"Hypertension status is 0\", \"Hypertension status is No\")\n",
        "\n",
        "        # Instruction for LLM\n",
        "        x_str = (\"Decide in a single word if the patient has diabetes based on the given details. \"\n",
        "                 \"If the diabetes label is 1, the answer is 'Yes'. If 0, the answer is 'No'. \" + x_str)\n",
        "        x_str += \". Please decide whether the patient has diabetes: Yes or No.\"\n",
        "\n",
        "        return x_str\n"
      ],
      "metadata": {
        "id": "CI5W2Axfzm9q"
      },
      "execution_count": 27,
      "outputs": []
    },
    {
      "cell_type": "code",
      "source": [
        "test_ds = DiabetesDataset(X_test)"
      ],
      "metadata": {
        "id": "HuE-iGPB1tV1"
      },
      "execution_count": 28,
      "outputs": []
    },
    {
      "cell_type": "code",
      "source": [
        "from tqdm import tqdm\n",
        "import time\n",
        "\n",
        "results = []\n",
        "for prompt in tqdm(test_ds):\n",
        "  response = openClient.chat.completions.create(\n",
        "    model=\"gpt-4o-mini\",  # Make sure this model is available\n",
        "    messages=[\n",
        "          {\"role\": \"user\", \"content\": prompt},\n",
        "      ]\n",
        "  )\n",
        "  results.append(response.choices[0].message.content)\n",
        "  time.sleep(3)"
      ],
      "metadata": {
        "colab": {
          "base_uri": "https://localhost:8080/"
        },
        "id": "L2yn__Ftzm6Y",
        "outputId": "91d27e01-0314-49f0-dcac-166dd08a3184"
      },
      "execution_count": 29,
      "outputs": [
        {
          "output_type": "stream",
          "name": "stderr",
          "text": [
            "100%|██████████| 34/34 [02:19<00:00,  4.10s/it]\n"
          ]
        }
      ]
    },
    {
      "cell_type": "code",
      "source": [
        "results"
      ],
      "metadata": {
        "colab": {
          "base_uri": "https://localhost:8080/"
        },
        "id": "DAXF-WEd1XvL",
        "outputId": "3a13746b-4376-48aa-eb66-0453152c4776"
      },
      "execution_count": 30,
      "outputs": [
        {
          "output_type": "execute_result",
          "data": {
            "text/plain": [
              "['No',\n",
              " 'Yes',\n",
              " 'Yes',\n",
              " 'No',\n",
              " 'Yes',\n",
              " 'Yes',\n",
              " 'Yes',\n",
              " 'Yes',\n",
              " 'No',\n",
              " 'No',\n",
              " 'Yes',\n",
              " 'Yes',\n",
              " 'No',\n",
              " 'Yes',\n",
              " 'Yes',\n",
              " 'Yes',\n",
              " 'Yes',\n",
              " 'No',\n",
              " 'No',\n",
              " 'Yes',\n",
              " 'Yes',\n",
              " 'No',\n",
              " 'No',\n",
              " 'No',\n",
              " 'Yes',\n",
              " 'No',\n",
              " 'No',\n",
              " 'Yes',\n",
              " 'No',\n",
              " 'No',\n",
              " 'No',\n",
              " 'No',\n",
              " 'No',\n",
              " 'Yes']"
            ]
          },
          "metadata": {},
          "execution_count": 30
        }
      ]
    },
    {
      "cell_type": "markdown",
      "source": [
        "**Evaluating Diabetes Risk Prediction with OpenAPI: AUROC and AUPRC Metrics**"
      ],
      "metadata": {
        "id": "kjQTXOq5cqFl"
      }
    },
    {
      "cell_type": "code",
      "source": [
        "# Evaluating Diabetes Risk Prediction with OpenAPI: AUROC and AUPRC Metrics\n",
        "\n",
        "# Convert predictions to binary (1 for \"Yes\", 0 for \"No\")\n",
        "results_binary = list(map(lambda x: 1 if x == \"Yes\" else 0, results))\n",
        "\n",
        "test_labels = y_test\n",
        "test_pred = results_binary\n",
        "\n",
        "auroc = roc_auc_score(test_labels, test_pred)\n",
        "auprc = average_precision_score(test_labels, test_pred)\n",
        "print('\\nAUROC:', auroc, '\\nAUPRC', auprc)"
      ],
      "metadata": {
        "colab": {
          "base_uri": "https://localhost:8080/"
        },
        "id": "fA6TiGCXzm0H",
        "outputId": "01caf6ff-2b4e-4e81-991e-c4ed0e05e3d6"
      },
      "execution_count": 31,
      "outputs": [
        {
          "output_type": "stream",
          "name": "stdout",
          "text": [
            "\n",
            "AUROC: 0.6214285714285713 \n",
            "AUPRC 0.6588235294117647\n"
          ]
        }
      ]
    },
    {
      "cell_type": "markdown",
      "source": [
        "**Using OpenAPI Embedding and Logistic Regression to Classify Diabetes Risk: Model Evaluation with AUROC and AUPRC**"
      ],
      "metadata": {
        "id": "1NOyIIKCct7V"
      }
    },
    {
      "cell_type": "code",
      "source": [
        "def generate_embeddings(texts, model=\"text-embedding-ada-002\"):\n",
        "    embeddings = []\n",
        "\n",
        "    for text in tqdm(texts):\n",
        "        text = text.replace(\"\\n\", \" \")  # Remove newline characters\n",
        "        response = openClient.embeddings.create(\n",
        "            input=[text], model=model\n",
        "        )\n",
        "\n",
        "        embeddings.append(response.data[0].embedding)\n",
        "\n",
        "    return np.array(embeddings)"
      ],
      "metadata": {
        "id": "-8Y47E5CzmxH"
      },
      "execution_count": 32,
      "outputs": []
    },
    {
      "cell_type": "code",
      "source": [
        "# Using OpenAPI Embedding and Logistic Regression to Classify Diabetes Risk: Model Evaluation with AUROC and AUPRC\n",
        "\n",
        "# Train and test the performance\n",
        "train_ds = DiabetesDataset(X_train)  # Example of a dataset, adjust as needed\n",
        "embeddings = generate_embeddings(train_ds)  # Generate embeddings using OpenAPI\n",
        "\n",
        "# Train the Logistic Regression model\n",
        "model = LogisticRegression(max_iter=1000)\n",
        "model.fit(embeddings, y_train)  # Fit the model to the training data\n",
        "\n",
        "# Generate embeddings for the test dataset\n",
        "test_embeddings = generate_embeddings(test_ds)  # Embeddings for the test dataset\n",
        "test_labels = y_test  # Actual labels for the test set\n",
        "\n",
        "# Predict probabilities for the positive class (diabetes risk = 1)\n",
        "test_pred = model.predict_proba(test_embeddings)[:, 1]\n",
        "\n",
        "# Evaluate the model using AUROC and AUPRC\n",
        "auroc = roc_auc_score(test_labels, test_pred)\n",
        "auprc = average_precision_score(test_labels, test_pred)\n",
        "\n",
        "# Output the results\n",
        "print('\\nAUROC:', auroc, '\\nAUPRC', auprc)"
      ],
      "metadata": {
        "colab": {
          "base_uri": "https://localhost:8080/"
        },
        "id": "XiPjM17n4nv2",
        "outputId": "6e59b255-3e09-4b09-8bdd-b2bf85cae500"
      },
      "execution_count": 33,
      "outputs": [
        {
          "output_type": "stream",
          "name": "stderr",
          "text": [
            "100%|██████████| 132/132 [01:16<00:00,  1.73it/s]\n",
            "100%|██████████| 34/34 [00:16<00:00,  2.06it/s]"
          ]
        },
        {
          "output_type": "stream",
          "name": "stdout",
          "text": [
            "\n",
            "AUROC: 0.8214285714285714 \n",
            "AUPRC 0.8011603917537421\n"
          ]
        },
        {
          "output_type": "stream",
          "name": "stderr",
          "text": [
            "\n"
          ]
        }
      ]
    }
  ]
}